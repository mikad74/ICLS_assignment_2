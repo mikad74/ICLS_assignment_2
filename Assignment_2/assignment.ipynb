{
 "cells": [
  {
   "cell_type": "code",
   "execution_count": 50,
   "metadata": {},
   "outputs": [],
   "source": [
    "import numpy as np\n",
    "import scipy as sp\n",
    "import matplotlib.pyplot as plt\n",
    "\n",
    "rng = np.random.default_rng(14105071)"
   ]
  },
  {
   "cell_type": "markdown",
   "metadata": {},
   "source": [
    "Events :\n",
    "- Birth\n",
    "- Death (X, Y, Z)\n",
    "- Transmission\n",
    "- Recovery "
   ]
  },
  {
   "cell_type": "code",
   "execution_count": 51,
   "metadata": {},
   "outputs": [],
   "source": [
    "class Gillespie_Model:\n",
    "    def __init__(self, beta, gamma, mu, nu, X_0, Y_0, Z_0) -> None:\n",
    "        self.beta = beta\n",
    "        self.gamma = gamma\n",
    "        self.mu = mu\n",
    "        self.nu = nu\n",
    "        self.X = X_0\n",
    "        self.Y = Y_0\n",
    "        self.Z = Z_0\n",
    "        self.X_hist = [X_0]\n",
    "        self.Y_hist = [Y_0]\n",
    "        self.Z_hist = [Z_0]\n",
    "        self.t = [0]\n",
    "        \n",
    "    \n",
    "    def infection_event(self):\n",
    "        self.X -= 1\n",
    "        self.Y += 1\n",
    "\n",
    "    def recovery_event(self):\n",
    "        self.Y -= 1\n",
    "        self.Z += 1\n",
    "\n",
    "    def birth_event(self):\n",
    "        self.X +- 1\n",
    "\n",
    "    def death_event_S(self):\n",
    "        self.X -= 1\n",
    "\n",
    "    def death_event_I(self):\n",
    "        self.Y -= 1\n",
    "\n",
    "    def death_event_R(self):\n",
    "        self.Z -= 1\n",
    "\n",
    "    def birth_rate(self):\n",
    "        return self.nu * (self.X + self.Y + self.Z)\n",
    "\n",
    "    def transmission_rate(self): \n",
    "        return self.beta * self.X * self.Y / (self.X + self.Y + self.Z)\n",
    "\n",
    "    def recovery_rate(self):\n",
    "        return self.gamma * self.Y\n",
    "\n",
    "    def death_rate_S(self):\n",
    "        return self.mu * self.X\n",
    "\n",
    "    def death_rate_I(self):\n",
    "        return self.mu * self.Y\n",
    "\n",
    "    def death_rate_R(self):\n",
    "        return self.mu * self.Z\n",
    "\n",
    "    def gillespie_direct_step(self):\n",
    "        R_1 = self.birth_rate()\n",
    "        R_2 = self.transmission_rate()\n",
    "        R_3 = self.recovery_rate()\n",
    "        R_4 = self.death_rate_S()\n",
    "        R_5 = self.death_rate_I()\n",
    "        R_6 = self.death_rate_R()\n",
    "        R_m = [R_1, R_2, R_3, R_4, R_5, R_6]\n",
    "        events = [self.birth_event,\n",
    "                  self.infection_event,\n",
    "                  self.recovery_event,\n",
    "                  self.death_event_S,\n",
    "                  self.death_event_I,\n",
    "                  self.death_event_R]\n",
    "        event_rate = sum(R_m)\n",
    "        time_until_next_event = -1 / event_rate * np.log(rng.random())\n",
    "        P = rng.random() * event_rate\n",
    "        for i in range(len(R_m)):\n",
    "            if i == 0:\n",
    "                lower_bound = 0\n",
    "            else:\n",
    "                lower_bound = sum(R_m[:i])\n",
    "            upper_bound = sum(R_m[:i+1])\n",
    "            if (P <= upper_bound) and (P > lower_bound): \n",
    "                events[i]()\n",
    "        self.t.append(self.t[-1] + time_until_next_event)\n",
    "        self.X_hist.append(self.X)\n",
    "        self.Y_hist.append(self.Y)\n",
    "        self.Z_hist.append(self.Z)\n",
    "\n",
    "    def simulate_n_units(self, n):\n",
    "        while self.t[-1] < n:\n",
    "            self.gillespie_direct_step()"
   ]
  },
  {
   "cell_type": "code",
   "execution_count": 78,
   "metadata": {},
   "outputs": [],
   "source": [
    "_ = Gillespie_Model(520, 365.25/7, 1/70, 1/70, 2000, 5, 19795)\n",
    "_.simulate_n_units(100)"
   ]
  },
  {
   "cell_type": "code",
   "execution_count": 79,
   "metadata": {},
   "outputs": [
    {
     "data": {
      "text/plain": [
       "[<matplotlib.lines.Line2D at 0x10b279cd0>]"
      ]
     },
     "execution_count": 79,
     "metadata": {},
     "output_type": "execute_result"
    },
    {
     "data": {
      "image/png": "[encoded data removed]",
      "text/plain": [
       "<Figure size 640x480 with 1 Axes>"
      ]
     },
     "metadata": {},
     "output_type": "display_data"
    }
   ],
   "source": [
    "plt.plot(_.t, _.X_hist)\n",
    "# plt.plot(_.t, _.Y_hist)\n",
    "# plt.plot(_.t, _.Z_hist)"
   ]
  },
  {
   "cell_type": "code",
   "execution_count": null,
   "metadata": {},
   "outputs": [],
   "source": []
  }
 ],
 "metadata": {
  "kernelspec": {
   "display_name": "venv",
   "language": "python",
   "name": "python3"
  },
  "language_info": {
   "codemirror_mode": {
    "name": "ipython",
    "version": 3
   },
   "file_extension": ".py",
   "mimetype": "text/x-python",
   "name": "python",
   "nbconvert_exporter": "python",
   "pygments_lexer": "ipython3",
   "version": "3.12.5"
  }
 },
 "nbformat": 4,
 "nbformat_minor": 2
}
